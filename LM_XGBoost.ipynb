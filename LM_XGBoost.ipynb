{
 "cells": [
  {
   "cell_type": "markdown",
   "id": "1219cd29",
   "metadata": {},
   "source": [
    "# Import"
   ]
  },
  {
   "cell_type": "code",
   "execution_count": 10,
   "id": "0dfb75a0",
   "metadata": {},
   "outputs": [],
   "source": [
    "from xgboost import XGBClassifier\n",
    "import matplotlib as mpl\n",
    "import matplotlib.pyplot as plt\n",
    "from sklearn.model_selection import train_test_split\n",
    "from sklearn.metrics import explained_variance_score\n",
    "from sklearn.metrics import balanced_accuracy_score, roc_auc_score, make_scorer, precision_score, recall_score, roc_auc_score, roc_curve, f1_score\n",
    "from sklearn.metrics import confusion_matrix\n",
    "from sklearn.metrics import plot_confusion_matrix\n",
    "import datetime\n",
    "import warnings\n",
    "# 유니코드 깨짐현상 해결\n",
    "mpl.rcParams['axes.unicode_minus'] = False\n",
    "\n",
    "# 나눔고딕 폰트 적용\n",
    "plt.rcParams[\"font.family\"] = 'AppleGothic'\n",
    "\n",
    "# 경고 무시\n",
    "warnings.filterwarnings('ignore')\n",
    "%matplotlib inline\n",
    "\n"
   ]
  },
  {
   "cell_type": "markdown",
   "id": "6d959bf1",
   "metadata": {},
   "source": [
    "# File read & Value sorting"
   ]
  },
  {
   "cell_type": "code",
   "execution_count": 78,
   "id": "3b4d937d",
   "metadata": {},
   "outputs": [],
   "source": [
    "\n",
    "\n",
    "a = pd.read_csv(\"C:/Users/wjddb/LotteMembers/아카이브/all.csv\")\n",
    "\n",
    "#거래날짜\n",
    "a['거래날짜'] = pd.to_datetime(a['거래날짜'])\n",
    "a['거래년도'] = a['거래날짜'].dt.year\n",
    "a['거래월'] = a['거래날짜'].dt.month\n",
    "a['거래일'] = a['거래날짜'].dt.day\n",
    "a['거래분기']= a['거래날짜'].dt.quarter\n",
    "#카테고리화\n",
    "#a['성별'] = a['성별'].astype('category')\n",
    "#a['나이대'] = a['나이대'].astype('category')\n",
    "a['성별나이'] = a['성별나이'].astype('category')\n",
    "a['지역'] = a['지역'].astype('category')\n",
    "a['온오프'] = a['온오프'].astype('category')\n",
    "a['제휴사'] = a['제휴사'].astype('category')\n",
    "a['상품대분류'] = a['상품대분류'].astype('category')\n",
    "a['회원유무'] = a['회원유무'].astype('category')\n",
    "a['상품클래스'] = a['상품클래스'].astype('category')\n",
    "a['거래요일'] = a['거래요일'].astype('category')\n",
    "#a['RFMClass'] = a['RFMClass'].astype('category')\n",
    "columns_no_need = ['고객번호','영수증번호','거래날짜','상품이름','상품소분류','R_Quantile','F_Quantile','M_Quantile','RFMClass']\n",
    "#필요없는 컬럼 정리\n",
    "a = a.drop(columns_no_need,axis=1)\n",
    "\n",
    "# 데이터가 너무 많아서 20%의 랜덤 데이터 만을 사용.\n",
    "a = a.sample(frac=0.2)\n",
    "# XGBoost 에 맞추기 위하여 모델의 DUMMIFY 진행.\n",
    "a = pd.get_dummies(a,prefix_sep='_',drop_first=True)"
   ]
  },
  {
   "cell_type": "markdown",
   "id": "89254c3c",
   "metadata": {},
   "source": [
    "**CHECK VALUES**"
   ]
  },
  {
   "cell_type": "code",
   "execution_count": 44,
   "id": "dd966226",
   "metadata": {},
   "outputs": [
    {
     "data": {
      "text/plain": [
       "<bound method DataFrame.info of          거래시간     구매금액  구매수량  RFMClassScore  거래년도  거래월  거래일  거래분기  지역_Z02  \\\n",
       "1465166    17   4950.0   1.0             18  2021    1   10     1       0   \n",
       "2603368    13   2120.0   1.0             16  2021    3   20     1       0   \n",
       "3297906    18   1980.0   1.0              6  2021    7    7     3       0   \n",
       "870816     16   2500.0   1.0             15  2021    5   30     2       0   \n",
       "3049453    18   1000.0   1.0             18  2021    1   19     1       0   \n",
       "...       ...      ...   ...            ...   ...  ...  ...   ...     ...   \n",
       "3400509    18   5000.0   1.0             18  2021   11    4     4       0   \n",
       "681562     11   3300.0   2.0             17  2021    3   20     1       0   \n",
       "173891     20  24590.0   1.0             18  2021    2   21     1       0   \n",
       "697554     15   5500.0   1.0             18  2021    8   13     3       0   \n",
       "3359961    16  13900.0   1.0             16  2021    5    3     2       0   \n",
       "\n",
       "         지역_Z03  ...  상품클래스_유아  상품클래스_인테리어  상품클래스_주류  상품클래스_패션  거래요일_1  \\\n",
       "1465166       0  ...         0           0         0         0       0   \n",
       "2603368       0  ...         0           0         0         0       0   \n",
       "3297906       1  ...         0           0         0         0       0   \n",
       "870816        0  ...         0           0         0         0       0   \n",
       "3049453       0  ...         0           0         1         0       1   \n",
       "...         ...  ...       ...         ...       ...       ...     ...   \n",
       "3400509       0  ...         0           0         0         0       0   \n",
       "681562        0  ...         0           0         1         0       0   \n",
       "173891        0  ...         0           0         0         0       0   \n",
       "697554        0  ...         0           0         0         0       0   \n",
       "3359961       0  ...         0           0         0         0       0   \n",
       "\n",
       "         거래요일_2  거래요일_3  거래요일_4  거래요일_5  거래요일_6  \n",
       "1465166       0       0       0       0       1  \n",
       "2603368       0       0       0       1       0  \n",
       "3297906       1       0       0       0       0  \n",
       "870816        0       0       0       0       1  \n",
       "3049453       0       0       0       0       0  \n",
       "...         ...     ...     ...     ...     ...  \n",
       "3400509       0       1       0       0       0  \n",
       "681562        0       0       0       1       0  \n",
       "173891        0       0       0       0       1  \n",
       "697554        0       0       1       0       0  \n",
       "3359961       0       0       0       0       0  \n",
       "\n",
       "[926009 rows x 128 columns]>"
      ]
     },
     "execution_count": 44,
     "metadata": {},
     "output_type": "execute_result"
    }
   ],
   "source": [
    "a.info"
   ]
  },
  {
   "cell_type": "markdown",
   "id": "d1c9d98c",
   "metadata": {},
   "source": [
    "# Creating Model"
   ]
  },
  {
   "cell_type": "code",
   "execution_count": 79,
   "id": "cf604abc",
   "metadata": {},
   "outputs": [
    {
     "name": "stdout",
     "output_type": "stream",
     "text": [
      "Fit time :  1178.5655765533447\n"
     ]
    }
   ],
   "source": [
    "from sklearn.preprocessing import LabelEncoder\n",
    "X = a.drop(columns=['RFMClassScore'])\n",
    "y = a['RFMClassScore']\n",
    "\n",
    "X_train, X_test, y_train, y_test = train_test_split(X, y ,test_size=0.2,random_state=2)\n",
    "le = LabelEncoder()\n",
    "y_train = le.fit_transform(y_train)\n",
    "# 모델 선언\n",
    "xgb = XGBClassifier(n_estimators=100, learning_rate=0.2, max_depth=4, random_state = 323)\n",
    "import time\n",
    "\n",
    "# 모델 훈련\n",
    "start_time = time.time()\n",
    "xgb.fit(X_train, y_train,verbose=False)\n",
    "print('Fit time : ', time.time() - start_time)"
   ]
  },
  {
   "cell_type": "markdown",
   "id": "c240fa28",
   "metadata": {},
   "source": [
    "**PREDICT**"
   ]
  },
  {
   "cell_type": "code",
   "execution_count": 80,
   "id": "567d31d6",
   "metadata": {},
   "outputs": [
    {
     "name": "stdout",
     "output_type": "stream",
     "text": [
      "0.27301307898008526\n",
      "-3.826151859304667\n"
     ]
    }
   ],
   "source": [
    "predictions = xgb.predict(X_test)\n",
    "r_sq = xgb.score(X_train, y_train)\n",
    "print(r_sq)\n",
    "print(explained_variance_score(predictions,y_test))"
   ]
  },
  {
   "cell_type": "markdown",
   "id": "07b820d8",
   "metadata": {},
   "source": [
    "**ACCURACY**"
   ]
  },
  {
   "cell_type": "code",
   "execution_count": 81,
   "id": "e0ced5eb",
   "metadata": {},
   "outputs": [
    {
     "name": "stdout",
     "output_type": "stream",
     "text": [
      "Accuracy 77.61587508885808\n"
     ]
    }
   ],
   "source": [
    "#Measuring accuracy on Testing Data\n",
    "print('Accuracy',100 - (np.mean(np.abs((y_test - predictions) / y_test)) * 100))"
   ]
  },
  {
   "cell_type": "code",
   "execution_count": 83,
   "id": "3422aa4d",
   "metadata": {},
   "outputs": [
    {
     "data": {
      "text/html": [
       "<div>\n",
       "<style scoped>\n",
       "    .dataframe tbody tr th:only-of-type {\n",
       "        vertical-align: middle;\n",
       "    }\n",
       "\n",
       "    .dataframe tbody tr th {\n",
       "        vertical-align: top;\n",
       "    }\n",
       "\n",
       "    .dataframe thead th {\n",
       "        text-align: right;\n",
       "    }\n",
       "</style>\n",
       "<table border=\"1\" class=\"dataframe\">\n",
       "  <thead>\n",
       "    <tr style=\"text-align: right;\">\n",
       "      <th></th>\n",
       "      <th>0</th>\n",
       "      <th>RFMClassScore</th>\n",
       "    </tr>\n",
       "  </thead>\n",
       "  <tbody>\n",
       "    <tr>\n",
       "      <th>0</th>\n",
       "      <td>13</td>\n",
       "      <td>16</td>\n",
       "    </tr>\n",
       "    <tr>\n",
       "      <th>1</th>\n",
       "      <td>15</td>\n",
       "      <td>18</td>\n",
       "    </tr>\n",
       "    <tr>\n",
       "      <th>2</th>\n",
       "      <td>14</td>\n",
       "      <td>18</td>\n",
       "    </tr>\n",
       "    <tr>\n",
       "      <th>3</th>\n",
       "      <td>15</td>\n",
       "      <td>12</td>\n",
       "    </tr>\n",
       "    <tr>\n",
       "      <th>4</th>\n",
       "      <td>15</td>\n",
       "      <td>12</td>\n",
       "    </tr>\n",
       "    <tr>\n",
       "      <th>...</th>\n",
       "      <td>...</td>\n",
       "      <td>...</td>\n",
       "    </tr>\n",
       "    <tr>\n",
       "      <th>185197</th>\n",
       "      <td>14</td>\n",
       "      <td>15</td>\n",
       "    </tr>\n",
       "    <tr>\n",
       "      <th>185198</th>\n",
       "      <td>14</td>\n",
       "      <td>18</td>\n",
       "    </tr>\n",
       "    <tr>\n",
       "      <th>185199</th>\n",
       "      <td>15</td>\n",
       "      <td>12</td>\n",
       "    </tr>\n",
       "    <tr>\n",
       "      <th>185200</th>\n",
       "      <td>13</td>\n",
       "      <td>6</td>\n",
       "    </tr>\n",
       "    <tr>\n",
       "      <th>185201</th>\n",
       "      <td>14</td>\n",
       "      <td>17</td>\n",
       "    </tr>\n",
       "  </tbody>\n",
       "</table>\n",
       "<p>185202 rows × 2 columns</p>\n",
       "</div>"
      ],
      "text/plain": [
       "         0  RFMClassScore\n",
       "0       13             16\n",
       "1       15             18\n",
       "2       14             18\n",
       "3       15             12\n",
       "4       15             12\n",
       "...     ..            ...\n",
       "185197  14             15\n",
       "185198  14             18\n",
       "185199  15             12\n",
       "185200  13              6\n",
       "185201  14             17\n",
       "\n",
       "[185202 rows x 2 columns]"
      ]
     },
     "execution_count": 83,
     "metadata": {},
     "output_type": "execute_result"
    }
   ],
   "source": [
    "a = pd.DataFrame(predictions)\n",
    "\n",
    "a = pd.concat([a,y_test.reset_index(drop=True)],axis=1)\n",
    "a"
   ]
  },
  {
   "cell_type": "markdown",
   "id": "de010a88",
   "metadata": {},
   "source": [
    "# FILE OUT"
   ]
  },
  {
   "cell_type": "code",
   "execution_count": 77,
   "id": "e58406a9",
   "metadata": {},
   "outputs": [],
   "source": [
    "a.to_csv(\"C:/Users/wjddb/LotteMembers/아카이브/predictions2.csv\")"
   ]
  }
 ],
 "metadata": {
  "kernelspec": {
   "display_name": "Python 3 (ipykernel)",
   "language": "python",
   "name": "python3"
  },
  "language_info": {
   "codemirror_mode": {
    "name": "ipython",
    "version": 3
   },
   "file_extension": ".py",
   "mimetype": "text/x-python",
   "name": "python",
   "nbconvert_exporter": "python",
   "pygments_lexer": "ipython3",
   "version": "3.10.5"
  }
 },
 "nbformat": 4,
 "nbformat_minor": 5
}
